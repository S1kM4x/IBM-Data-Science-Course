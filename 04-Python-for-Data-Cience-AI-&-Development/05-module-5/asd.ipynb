{
 "cells": [
  {
   "cell_type": "code",
   "execution_count": 8,
   "id": "f3101eb8",
   "metadata": {},
   "outputs": [
    {
     "name": "stderr",
     "output_type": "stream",
     "text": [
      "/var/folders/h2/qbq1xx516yv9m18yw96t__bh0000gn/T/ipykernel_68670/981252368.py:7: RuntimeWarning: divide by zero encountered in divide\n",
      "  a/b\n"
     ]
    },
    {
     "data": {
      "text/plain": [
       "array([ 0., inf,  0., inf,  0.])"
      ]
     },
     "execution_count": 8,
     "metadata": {},
     "output_type": "execute_result"
    }
   ],
   "source": [
    "import numpy as np\n",
    "\n",
    "a=np.array([0,1,0,1,0]) \n",
    "\n",
    "b=np.array([1,0,1,0,1]) \n",
    "\n",
    "a/b "
   ]
  }
 ],
 "metadata": {
  "kernelspec": {
   "display_name": "ibm-datascience-course",
   "language": "python",
   "name": "python3"
  },
  "language_info": {
   "codemirror_mode": {
    "name": "ipython",
    "version": 3
   },
   "file_extension": ".py",
   "mimetype": "text/x-python",
   "name": "python",
   "nbconvert_exporter": "python",
   "pygments_lexer": "ipython3",
   "version": "3.11.13"
  }
 },
 "nbformat": 4,
 "nbformat_minor": 5
}
